{
 "cells": [
  {
   "cell_type": "code",
   "execution_count": 16,
   "metadata": {},
   "outputs": [],
   "source": [
    "import pandas as pd, numpy as np, cvxpy as cvx"
   ]
  },
  {
   "cell_type": "markdown",
   "metadata": {},
   "source": [
    "# Abstract\n",
    "In this report we analyze summary statistic for a number of US equitites and make recommendations based on three different sets of portfolio constraints"
   ]
  },
  {
   "cell_type": "markdown",
   "metadata": {},
   "source": [
    "# Returns Statistics for Tradable Universe"
   ]
  },
  {
   "cell_type": "code",
   "execution_count": 43,
   "metadata": {},
   "outputs": [
    {
     "data": {
      "text/html": [
       "<div>\n",
       "<style scoped>\n",
       "    .dataframe tbody tr th:only-of-type {\n",
       "        vertical-align: middle;\n",
       "    }\n",
       "\n",
       "    .dataframe tbody tr th {\n",
       "        vertical-align: top;\n",
       "    }\n",
       "\n",
       "    .dataframe thead th {\n",
       "        text-align: right;\n",
       "    }\n",
       "</style>\n",
       "<table border=\"1\" class=\"dataframe\">\n",
       "  <thead>\n",
       "    <tr style=\"text-align: right;\">\n",
       "      <th></th>\n",
       "      <th>Mean</th>\n",
       "      <th>Vol</th>\n",
       "      <th>Skew</th>\n",
       "      <th>Kurt</th>\n",
       "    </tr>\n",
       "  </thead>\n",
       "  <tbody>\n",
       "    <tr>\n",
       "      <th>AAPL</th>\n",
       "      <td>0.044858</td>\n",
       "      <td>0.009320</td>\n",
       "      <td>-0.335173</td>\n",
       "      <td>5.034093</td>\n",
       "    </tr>\n",
       "    <tr>\n",
       "      <th>AMZN</th>\n",
       "      <td>0.010362</td>\n",
       "      <td>0.009557</td>\n",
       "      <td>-0.312865</td>\n",
       "      <td>4.729806</td>\n",
       "    </tr>\n",
       "    <tr>\n",
       "      <th>NFLX</th>\n",
       "      <td>-0.029675</td>\n",
       "      <td>0.013409</td>\n",
       "      <td>-3.101654</td>\n",
       "      <td>41.968015</td>\n",
       "    </tr>\n",
       "    <tr>\n",
       "      <th>META</th>\n",
       "      <td>-0.006934</td>\n",
       "      <td>0.011582</td>\n",
       "      <td>-1.936506</td>\n",
       "      <td>23.289236</td>\n",
       "    </tr>\n",
       "    <tr>\n",
       "      <th>GOOG</th>\n",
       "      <td>0.029035</td>\n",
       "      <td>0.008376</td>\n",
       "      <td>-0.197700</td>\n",
       "      <td>4.310171</td>\n",
       "    </tr>\n",
       "  </tbody>\n",
       "</table>\n",
       "</div>"
      ],
      "text/plain": [
       "          Mean       Vol      Skew       Kurt\n",
       "AAPL  0.044858  0.009320 -0.335173   5.034093\n",
       "AMZN  0.010362  0.009557 -0.312865   4.729806\n",
       "NFLX -0.029675  0.013409 -3.101654  41.968015\n",
       "META -0.006934  0.011582 -1.936506  23.289236\n",
       "GOOG  0.029035  0.008376 -0.197700   4.310171"
      ]
     },
     "execution_count": 43,
     "metadata": {},
     "output_type": "execute_result"
    }
   ],
   "source": [
    "#pd.read_csv(\"./MScFE560_FM_GWP1_Data.csv\",index_col=0).dropna(how='all',axis=0).dropna(how='all', axis=1)\n",
    "stats_daily = pd.read_csv(\"./MScFE560_FM_GWP1_Data.csv\",index_col=0).iloc[:4,:5].astype(float).T\n",
    "stats_daily.columns = ['Mean', 'Vol', 'Skew', 'Kurt']\n",
    "stats_daily\n"
   ]
  },
  {
   "cell_type": "code",
   "execution_count": 44,
   "metadata": {},
   "outputs": [
    {
     "data": {
      "image/png": "[encoded data removed]",
      "text/plain": [
       "<Figure size 1008x288 with 1 Axes>"
      ]
     },
     "metadata": {
      "needs_background": "light"
     },
     "output_type": "display_data"
    }
   ],
   "source": [
    "stats_daily.eval('sqrt(252)*Mean/Vol/100').plot(kind='bar',subplots=True, figsize=(14,4))\n",
    "corr_daily = pd.read_csv(\"./MScFE560_FM_GWP1_Data.csv\",index_col=0).iloc[6:,:5].astype(float)"
   ]
  },
  {
   "cell_type": "code",
   "execution_count": 55,
   "metadata": {},
   "outputs": [
    {
     "data": {
      "text/plain": [
       "7.015352309289999e-05"
      ]
     },
     "execution_count": 55,
     "metadata": {},
     "output_type": "execute_result"
    }
   ],
   "source": [
    "def var_p(w):\n",
    "    '''Closure used to compute portfolio variance given a Series of instrument weights, w'''\n",
    "    vol = stats_daily.Vol.copy()\n",
    "    Sigma = np.outer(vol.values, vol.values)*corr_daily\n",
    "    return w.dot(Sigma.dot(w))\n",
    "\n",
    "w = pd.Series({'AAPL':.0, 'AMZN':0, 'NFLX':.0, 'META':.0, 'GOOG':1.})\n",
    "w /= w.sum()\n",
    "\n",
    "var_p(w)"
   ]
  },
  {
   "cell_type": "markdown",
   "metadata": {},
   "source": [
    "# Portfolio A: Long 1 / Short 1"
   ]
  },
  {
   "cell_type": "markdown",
   "metadata": {},
   "source": [
    "# Portfolio B: Long Only Portfolio"
   ]
  },
  {
   "cell_type": "markdown",
   "metadata": {},
   "source": [
    "# Portfolio C: Long/Short Three or More Total Positions"
   ]
  },
  {
   "cell_type": "markdown",
   "metadata": {},
   "source": [
    "# Step 1\n",
    "\n",
    "For each investment, you are given statistics in this .csv file the stock’s.\n",
    "You also have the correlation and covariance matrix of historical returns (download this .csv file)\n",
    "1. Average return\n",
    "2. Volatility\n",
    "3. Skewness\n",
    "4. Kurtosis\n",
    "\n",
    "**You must compute the portfolio’s average return and portfolio volatility.**\n",
    "You do not need to compute the portfolio skewness and portfolio kurtosis."
   ]
  },
  {
   "cell_type": "markdown",
   "metadata": {},
   "source": [
    "# Step 2 \n",
    "Key considerations:\n",
    "1.  Shorting\n",
    "    a. Can this portfolio be shorted? (Hint: Yes, but be sure to explain part b)\n",
    "    b. If it can be shorted, walk through the mechanics.\n",
    "\n",
    "2. Credit Risk\n",
    "    a. Does this portfolio have credit risk?\n",
    "    b. If it has credit risk, explain what the credit risk is.\n",
    "\n",
    "3. Portfolio Statistics\n",
    "    a. Compute the weighted return of the portfolio.\n",
    "    b. Compute the variance of the portfolio.\n",
    "\n",
    "4. Diversification\n",
    "    a. Describe the diversification in words between the two assets.\n",
    "    b. Do you think this portfolio is well diversified or not?\n",
    "\n",
    "5. Comparing Portfolios\n",
    "    * How does your portfolio compare to the others in terms of risk?\n",
    "    * How does your portfolio compare to the others in terms of return?\n",
    "\n",
    "6. Assessing Risk\n",
    "    * Describe economic conditions or scenarios that would affect your security. For example, the COVID-19 pandemic could disrupt travel and halt the production of new aircraft, hurting the demand for airline parts. (Note: this particular example CANNOT be used!)\n",
    "    * Determine if similar events would hurt one or both members of a portfolio.\n",
    "\n",
    "7. Performance\n",
    "    * Now describe economic conditions or scenarios that would greatly\n",
    "    improve each security. For example, increased business and vacation travel could increase the demand for airline parts (Note: this particular example CANNOT be used!)\n",
    "    * Determine if similar events would help one or both members of a portfolio.\n",
    "8. Disrupters\n",
    "    * List the potential influence the central bank may have on the portfolio.\n",
    "    * List the potential influence that investment banks may have on the portfolio.\n",
    "\n",
    "9. Re-assessing Risk\n",
    "    * Do the two investments in the portfolio have the same skew?\n",
    "    * Is there a difference between the types of correlation?"
   ]
  },
  {
   "cell_type": "markdown",
   "metadata": {},
   "source": [
    "# Step 4\n",
    "\n",
    "Once you have individually finished the analysis of your respective portfolio, get together with your team members and discuss your findings. Think about how the answers to issues like shorting, financing, volatility, correlation, etc., appeal to or discourage potential investors.\n",
    "\n",
    "For example, discuss these questions:\n",
    "* How does your portfolio’s volatility compare to the volatility of other portfolios?\n",
    "* How important is it that your portfolio has high volatility? For example, if your targeted investor base is consevative, you will want lower volatility rather than higher volatility. On the other hand, if your targeted investor base is risk-seeking, you may want to recommend the portfolio with higher volatility."
   ]
  },
  {
   "cell_type": "markdown",
   "metadata": {},
   "source": [
    "# Step 5\n",
    "\n",
    "As a group, write the two items described below. These investors understand fundamental principles of return and risk for individual securities but need to understand those concepts as they pertain to the specific portfolio:\n",
    "\n",
    "    1. Write a marketing piece to promote the advantages of one of the portfolios. Based on the conversation you’ve had as a team, be sure to explain why it is better than the other portfolio. Length: 1 slide (PPT or Google Sheets)\n",
    "    \n",
    "    2. Write an email to discourage someone from investing in one of the portfolios. Based on the conversation you’ve had as a team, be sure to explain how there may be better portfolios out there. Length: 250-300 words\n",
    "\n",
    "Note: In each piece, be sure to use terms discussed in the notes, including: \n",
    "* Shorting\n",
    "* Financing\n",
    "* Volatility\n",
    "* Correlation\n"
   ]
  },
  {
   "cell_type": "markdown",
   "metadata": {},
   "source": []
  }
 ],
 "metadata": {
  "kernelspec": {
   "display_name": "Python 3.9.7 ('base')",
   "language": "python",
   "name": "python3"
  },
  "language_info": {
   "codemirror_mode": {
    "name": "ipython",
    "version": 3
   },
   "file_extension": ".py",
   "mimetype": "text/x-python",
   "name": "python",
   "nbconvert_exporter": "python",
   "pygments_lexer": "ipython3",
   "version": "3.9.7"
  },
  "orig_nbformat": 4,
  "vscode": {
   "interpreter": {
    "hash": "40d3a090f54c6569ab1632332b64b2c03c39dcf918b08424e98f38b5ae0af88f"
   }
  }
 },
 "nbformat": 4,
 "nbformat_minor": 2
}
